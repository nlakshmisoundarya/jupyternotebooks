{
  "nbformat": 4,
  "nbformat_minor": 0,
  "metadata": {
    "colab": {
      "provenance": []
    },
    "kernelspec": {
      "name": "python3",
      "display_name": "Python 3"
    },
    "language_info": {
      "name": "python"
    }
  },
  "cells": [
    {
      "cell_type": "code",
      "source": [
        "if 5 > 2:\n",
        " print(\"Five is greater than two!\")\n",
        " print(\"Five is greater than two!\")"
      ],
      "metadata": {
        "colab": {
          "base_uri": "https://localhost:8080/"
        },
        "id": "YXtUNlGO9jHO",
        "outputId": "840444e2-83fd-48ad-cd83-5e8c278ca8a0"
      },
      "execution_count": null,
      "outputs": [
        {
          "output_type": "stream",
          "name": "stdout",
          "text": [
            "Five is greater than two!\n",
            "Five is greater than two!\n"
          ]
        }
      ]
    },
    {
      "cell_type": "code",
      "source": [
        "\"\"\"\n",
        "This is a comment\n",
        "written in\n",
        "more than just one line\n",
        "\"\"\"\n",
        "print(\"Hello, World!\")"
      ],
      "metadata": {
        "colab": {
          "base_uri": "https://localhost:8080/"
        },
        "id": "E8ZvxIkNAQuj",
        "outputId": "406fece2-8269-4955-d525-278202b990a7"
      },
      "execution_count": null,
      "outputs": [
        {
          "output_type": "stream",
          "name": "stdout",
          "text": [
            "Hello, World!\n"
          ]
        }
      ]
    },
    {
      "cell_type": "code",
      "source": [
        "x=4\n",
        "x='python'\n",
        "print(x)"
      ],
      "metadata": {
        "colab": {
          "base_uri": "https://localhost:8080/"
        },
        "id": "2jrXVxyHA4Uh",
        "outputId": "877c9fa8-2d92-4b03-ba59-f30511cdf032"
      },
      "execution_count": null,
      "outputs": [
        {
          "output_type": "stream",
          "name": "stdout",
          "text": [
            "python\n"
          ]
        }
      ]
    },
    {
      "cell_type": "code",
      "source": [
        "x=str(1)\n",
        "y=int(2)\n",
        "z=float(3)\n",
        "print(x,y,z)"
      ],
      "metadata": {
        "colab": {
          "base_uri": "https://localhost:8080/"
        },
        "id": "OvXdLg0qBDSx",
        "outputId": "5e16223a-4440-4807-df20-abfdff71590b"
      },
      "execution_count": null,
      "outputs": [
        {
          "output_type": "stream",
          "name": "stdout",
          "text": [
            "1 2 3.0\n"
          ]
        }
      ]
    },
    {
      "cell_type": "code",
      "source": [
        "#legal variable names\n",
        "myvar = \"John\"\n",
        "my_var = \"John\"\n",
        "_my_var = \"John\"\n",
        "myVar = \"John\"\n",
        "MYVAR = \"John\"\n",
        "myvar12_ = \"John\"\n",
        "#illegal variable names\n",
        "2myvar = \"John\"\n",
        "my-var = \"John\"\n",
        "my var = \"John\""
      ],
      "metadata": {
        "id": "UcHRDHpbBMi0"
      },
      "execution_count": null,
      "outputs": []
    },
    {
      "cell_type": "code",
      "source": [
        "#variable names are case-sensitive\n",
        "#CAMEL CASE - except 1st word every other word starts with capital letter ex-myVariableName\n",
        "#PASCAL CASE - all words start with capital letters ex-MyVariableName\n",
        "#SNAKE CASE - each word is separated by a underscore ex-my_variable_name"
      ],
      "metadata": {
        "id": "nPwYLga3BzcL"
      },
      "execution_count": null,
      "outputs": []
    },
    {
      "cell_type": "code",
      "source": [
        "#multiple variables can be assigned in one line\n",
        "x,y,z= 1,'A',3.0 #num of variables should be equal to num of values\n",
        "print(x,y,z)"
      ],
      "metadata": {
        "colab": {
          "base_uri": "https://localhost:8080/"
        },
        "id": "pzDaVnUQC6jx",
        "outputId": "1bff7055-86c6-4126-8153-1dfb8d963ec9"
      },
      "execution_count": null,
      "outputs": [
        {
          "output_type": "stream",
          "name": "stdout",
          "text": [
            "1 A 3.0\n"
          ]
        }
      ]
    },
    {
      "cell_type": "code",
      "source": [
        "input = [1,'A',3.0]\n",
        "x,y,z=input\n",
        "print(x,y,z)"
      ],
      "metadata": {
        "colab": {
          "base_uri": "https://localhost:8080/"
        },
        "id": "6se2BMvyDL3B",
        "outputId": "2143768a-ffbe-49d5-8e0a-fb85f6fa9d2f"
      },
      "execution_count": null,
      "outputs": [
        {
          "output_type": "stream",
          "name": "stdout",
          "text": [
            "1 A 3.0\n"
          ]
        }
      ]
    },
    {
      "cell_type": "code",
      "source": [
        "#GLOBAL VARIABLES -  created outside of a function and can be used anywhere\n",
        "#example-\n",
        "x=5\n",
        "def output():\n",
        "  print(x+10)\n",
        "output()\n",
        "#here x = 5 defines a global variable x.\n",
        "#The function output() does not take any parameters, so it uses the global variable x directly within the function.\n",
        "\n",
        "x=5\n",
        "def output(x):\n",
        "  print(x+10)\n",
        "output(x)\n",
        "#here x = 5 defines a global variable x.\n",
        "#The function output(x) takes x as a parameter. When output(x) is called, it receives the value of the global x (which is 5) as an argument.\n",
        "#Since x is passed as a parameter, the function works independently of the global variable x. This is beneficial when we want to pass different values to output() without relying on a global variable."
      ],
      "metadata": {
        "colab": {
          "base_uri": "https://localhost:8080/"
        },
        "id": "mSnoww6fDdHd",
        "outputId": "4c465b37-e727-4bdc-9631-193c532130ec"
      },
      "execution_count": null,
      "outputs": [
        {
          "output_type": "stream",
          "name": "stdout",
          "text": [
            "15\n"
          ]
        }
      ]
    },
    {
      "cell_type": "code",
      "source": [
        "x = \"awesome\"\n",
        "\n",
        "def myfunc():\n",
        "  x = \"fantastic\"\n",
        "  print(\"Python is \" + x)\n",
        "\n",
        "myfunc()\n",
        "\n",
        "print(\"Python is \" + x)"
      ],
      "metadata": {
        "colab": {
          "base_uri": "https://localhost:8080/"
        },
        "id": "_gh3i8f-GfoS",
        "outputId": "6981abf4-6bf3-4b05-bedb-9ec62e340cd3"
      },
      "execution_count": null,
      "outputs": [
        {
          "output_type": "stream",
          "name": "stdout",
          "text": [
            "Python is fantastic\n",
            "Python is awesome\n"
          ]
        }
      ]
    },
    {
      "cell_type": "code",
      "source": [
        "#GLOBAL KEYWORD\n",
        "#any assignment to x inside myfunc() will affect x globally, making it accessible outside the function.\n",
        "def myfunc():\n",
        "  global x\n",
        "  x = \"fantastic\"\n",
        "\n",
        "myfunc()\n",
        "\n",
        "print(\"Python is \" + x)"
      ],
      "metadata": {
        "colab": {
          "base_uri": "https://localhost:8080/"
        },
        "id": "AvOdXeBJH_qH",
        "outputId": "7e5d3b5a-81de-4eb5-f4f4-03c922d725ed"
      },
      "execution_count": null,
      "outputs": [
        {
          "output_type": "stream",
          "name": "stdout",
          "text": [
            "Python is fantastic\n"
          ]
        }
      ]
    },
    {
      "cell_type": "code",
      "source": [
        "x='awsome'\n",
        "def myfunc():\n",
        "  global x\n",
        "  x = \"fantastic\"\n",
        "\n",
        "myfunc()\n",
        "\n",
        "print(\"Python is \" + x)"
      ],
      "metadata": {
        "colab": {
          "base_uri": "https://localhost:8080/"
        },
        "id": "Dd7hML3ZIRNb",
        "outputId": "6017674b-681a-4c7c-e050-158545fd0c8b"
      },
      "execution_count": null,
      "outputs": [
        {
          "output_type": "stream",
          "name": "stdout",
          "text": [
            "Python is fantastic\n"
          ]
        }
      ]
    },
    {
      "cell_type": "code",
      "source": [
        "#DATA TYPES\n",
        "Text Type:\tstr \"\" or ''\n",
        "Numeric Types:\tint, float, complex\n",
        "Sequence Types:\tlist ['',''], tuple('',''), range => range(number)\n",
        "Mapping Type:\tdict {'':'', '':integer}\n",
        "Set Types:\tset {'',''}, frozenset ({'',''})\n",
        "Boolean Type:\tbool\n",
        "Binary Types:\tbytes, bytearray, memoryview => memoryview(bytes)\n",
        "None Type:\tNoneType"
      ],
      "metadata": {
        "id": "2Dm5KE1yIiWy"
      },
      "execution_count": null,
      "outputs": []
    },
    {
      "cell_type": "code",
      "source": [
        "#Bytes\n",
        "#Bytes are an immutable sequence of bytes, often used for binary data like files or network resources.\n",
        "\n",
        "x = bytes([72, 101, 108, 108, 111])\n",
        "print(x)\n",
        "------------------------------------------------------------------------------------------------------------------------\n",
        "#ByteArray\n",
        "#A bytearray is a mutable sequence of bytes, meaning you can modify its contents. It’s useful for modifying binary data.\n",
        "x = bytearray(b\"Hello\")\n",
        "x[0] = 74          # Modifies the first byte\n",
        "print(x)           # Output: bytearray(b'Jello')\n",
        "#Initializing a bytearray with a specific size\n",
        "x = bytearray(5)   # Creates a bytearray of 5 bytes, all set to zero\n",
        "print(x)           # Output: bytearray(b'\\x00\\x00\\x00\\x00\\x00')\n",
        "#Appending bytes to a bytearray\n",
        "x = bytearray(b\"Hi\")\n",
        "x.extend(b\" there\")\n",
        "print(x)           # Output: bytearray(b'Hi there')\n",
        "------------------------------------------------------------------------------------------------------------------------\n",
        "#Memoryview\n",
        "#A memoryview provides a way to access the internal data of an object without copying, which can be useful for handling large data efficiently.\n",
        "\n",
        "#Creating a memoryview from a bytes object\n",
        "x = bytes([10, 20, 30, 40, 50])\n",
        "mv = memoryview(x)\n",
        "print(mv[1])       # Output: 20 (Accessing second byte)\n",
        "#Creating a memoryview from a bytearray and modifying it\n",
        "x = bytearray(b\"Hello\")\n",
        "mv = memoryview(x)\n",
        "mv[1] = 74         # Modify the second byte\n",
        "print(x)           # Output: bytearray(b'HJllo')\n",
        "#Slicing a memoryview\n",
        "x = bytes([1, 2, 3, 4, 5])\n",
        "mv = memoryview(x)\n",
        "print(mv[1:4].tolist())  # Output: [2, 3, 4]"
      ],
      "metadata": {
        "colab": {
          "base_uri": "https://localhost:8080/"
        },
        "id": "ikRVggjVtESE",
        "outputId": "39117076-2ecf-4d00-98b2-11417cd2f5e8"
      },
      "execution_count": null,
      "outputs": [
        {
          "output_type": "stream",
          "name": "stdout",
          "text": [
            "b'Hello'\n"
          ]
        }
      ]
    },
    {
      "cell_type": "code",
      "source": [
        "x = bytearray(b\"Hello\")\n",
        "mv = memoryview(x)\n",
        "mv[0] = 74\n",
        "print(x)\n",
        "\n",
        "\n",
        "y = bytearray(b\"Hello\")\n",
        "y[0] = 74\n",
        "print(y)"
      ],
      "metadata": {
        "colab": {
          "base_uri": "https://localhost:8080/"
        },
        "id": "zGe83o9atFQ4",
        "outputId": "3cdfee03-4f62-4cda-8b69-19be0c1f94ea"
      },
      "execution_count": null,
      "outputs": [
        {
          "output_type": "stream",
          "name": "stdout",
          "text": [
            "bytearray(b'Jello')\n",
            "bytearray(b'Jello')\n"
          ]
        }
      ]
    },
    {
      "cell_type": "code",
      "source": [
        "#NUMBERS\n",
        "#Complex numbers are written with a \"j\" as the imaginary part:\n",
        "#1+2j or 3j or -4j\n",
        "\n",
        "#TYPE CONVERSIONS\n",
        "x=1\n",
        "y=2.3\n",
        "z=4j\n",
        "a=-5\n",
        "\n",
        "z1=float(x)\n",
        "z1\n",
        "\n",
        "#we can not convert complex numbers to any other types"
      ],
      "metadata": {
        "colab": {
          "base_uri": "https://localhost:8080/"
        },
        "id": "ZtZtQyHG_4JT",
        "outputId": "d98053cc-ae3a-4680-c471-495047236520"
      },
      "execution_count": null,
      "outputs": [
        {
          "output_type": "execute_result",
          "data": {
            "text/plain": [
              "1.0"
            ]
          },
          "metadata": {},
          "execution_count": 1
        }
      ]
    },
    {
      "cell_type": "code",
      "source": [
        "#we can get random numbers by importing random module\n",
        "import random\n",
        "print(random.randint(1,10))"
      ],
      "metadata": {
        "id": "FcyWlhadb0iV",
        "colab": {
          "base_uri": "https://localhost:8080/"
        },
        "outputId": "6f4f6dd1-0de0-4894-a8a9-2d662ef43f66"
      },
      "execution_count": null,
      "outputs": [
        {
          "output_type": "stream",
          "name": "stdout",
          "text": [
            "3\n"
          ]
        }
      ]
    },
    {
      "cell_type": "code",
      "source": [
        "#STRINGS\n",
        "#\"in\" keyword in strings if to find the presence of a particular character or a phrase in a string\n",
        "\n",
        "#slicing => [:]\n",
        "#string from start is 0,1,2,3...imdexed and -1,-2,-3....from back\n",
        "# .lower()   .upper()   .strip()-removes whitespaces from beginning or end   .replace('given','to replace with')\n",
        "#The split() method returns a list where the text between the specified separator becomes the list items.\n",
        "string = \"Hello, My name is Soundarya. I am currently looking for job opportunities, to start my career.\"\n",
        "print(string.split('.'))\n",
        "# + in tsrings is used to concat strings\n",
        "#FORMAT STRINGS\n",
        "age = 24\n",
        "print(f\"I am Soundarya. I am {age} years old.\") #using fstrings\n",
        "print(f\"{age:.2f}\")"
      ],
      "metadata": {
        "colab": {
          "base_uri": "https://localhost:8080/"
        },
        "id": "qGIa1kkK7vJm",
        "outputId": "3397b80c-43b6-4bca-c040-578fe863e36c"
      },
      "execution_count": null,
      "outputs": [
        {
          "output_type": "stream",
          "name": "stdout",
          "text": [
            "['Hello, My name is Soundarya', ' I am currently looking for job opportunities, to start my career', '']\n",
            "I am Soundarya. I am 24 years old.\n",
            "24.00\n"
          ]
        }
      ]
    },
    {
      "cell_type": "code",
      "source": [
        "#The escape character allows to use double quotes when normally would not be allowed\n"
      ],
      "metadata": {
        "id": "bD6jWXSzAGo9"
      },
      "execution_count": null,
      "outputs": []
    },
    {
      "cell_type": "code",
      "source": [
        "string = \"   Hello\\t, World! 12345 - Python is FUN.      \"\n",
        "string2=\"hello123\"\n",
        "print(string.capitalize()) #Capitalizes only the first character and makes the rest of the string lowercase, if it has uppercase letters\n",
        "print(string.casefold()) #converts the entire string to lowercase.\n",
        "\n",
        "#string.center(width, fillchar)\n",
        "print(string.center(50))\n",
        "print(string.center(50,'-'))\n",
        "\n",
        "print(string.count('o'))\n",
        "\n",
        "#string.encode(encoding='utf-8', errors='strict')\n",
        "#encoding: Specifies the type of encoding to be used (e.g., \"utf-8\", \"ascii\", \"latin-1\"). The default is \"utf-8\".\n",
        "#errors: Specifies how to handle encoding errors. Options include:\n",
        "#\"strict\" (default): Raises a UnicodeEncodeError for characters that can’t be encoded.\n",
        "#\"ignore\": Ignores characters that can’t be encoded.\n",
        "#\"replace\": Replaces characters that can’t be encoded with a placeholder, usually ? in most encodings.\n",
        "print(string.encode())\n",
        "\n",
        "print(string.endswith('a'))  #true or false\n",
        "print(string.expandtabs())  #syntax : string.expandtabs(tabsize=8) tabsize: An optional parameter specifying the number of spaces each tab character should be replaced with. The default is 8.\n",
        "\n",
        "print(string.find(','))\n",
        "# print(string.format()) #\"some text {}\".format(value)\n",
        "# print(string.format_map())#some text {key1} and {key2}\".format_map(mapping to a defined dictionary)\n",
        "print(string.index('1'))\n",
        "print(string2.isalnum()) #checks if the string is alphanumeric i.e has only numbers and alphabets\n",
        "print(string.isalpha()) #checks if the string has only alphabets\n",
        "print(string.isascii()) #True if all characters are within ASCII range\n",
        "print(string.isdecimal()) #Checks if all characters are decimals (only valid for numeric strings).\n",
        "print(string.isdigit()) #Checks if all characters are digits.\n",
        "print(string.isidentifier()) #Checks if the string is a valid Python identifier (no spaces, special chars, or starting with digits).\n",
        "print(string.islower()) #checks if all are lower cased\n",
        "print(string.isnumeric()) #checks if all are only numbers\n",
        "print(string.isprintable()) #checks if all characters are printable\n",
        "print(string.isspace()) #checks if all characters are whitespaces\n",
        "print(string.isupper()) #checks if all are upper cased\n",
        "print(len(string))\n",
        "\n",
        "print(string.join(['First','Last'])) #places the whole string in between\n",
        "print(\"-\".join(['First','Last','Middle'])) #any separator is used to join each element in the list\n",
        "\n",
        "print(string.strip()) #removes whitespaces\n",
        "print(string.lstrip()) #removes left whitespaces\n",
        "print(string.rstrip())  #removes right whitespaces\n",
        "\n",
        "print(string.translate(str.maketrans(\"l1!\",\"j9$\"))) #translates the mentiones characters\n",
        "print(string.replace('123','987'))\n",
        "print(string.rfind('p')) #gives last occurance of character and -1 if not found case sensitive\n",
        "print(string.rindex('l')) #same like rfind but throws error if charcater is not found case sensitive\n",
        "\n",
        "print(string.rjust(50,'-')) #vale should be greater that len of str and right justifies => adds at left shifting string to right\n",
        "print(string.ljust(50,'-')) #value greater than lenght of string will become - at end as left justifies adding to right\n",
        "\n",
        "print(string.partition(\"o\")) #SEARCH FROM FRONT splits the string into three parts\n",
        "print(string.rpartition('o')) #SEARCH FROM END\n",
        "\n",
        "print(string.split(\"o\",1)) #LOOKS FROM LEFT 1idicates num of chars to take\n",
        "print(string.rsplit(\"o\")) #LOOKS FROM RIGHT no number means search all\n",
        "print(string.splitlines()) #splits the string at line breaks i.r at \\t\n",
        "\n",
        "print(string.startswith(\" \")) #true/false\n",
        "\n",
        "print(string.swapcase()) #Lowe to Upper and vise-ver-sa\n",
        "\n",
        "print(string.istitle()) #Checks if the string is title-cased (each word starts with an uppercase letter).\n",
        "print(string.title()) #converts first char of each word to upper\n",
        "\n",
        "print(string.zfill(50)) #pads string with 0 until it reaches specified lenght"
      ],
      "metadata": {
        "colab": {
          "base_uri": "https://localhost:8080/"
        },
        "id": "t9Jal_deC60t",
        "outputId": "bb1ce14b-9cef-4a14-fe08-39a111747305"
      },
      "execution_count": null,
      "outputs": [
        {
          "output_type": "stream",
          "name": "stdout",
          "text": [
            "   hello\t, world! 12345 - python is fun.      \n",
            "   hello\t, world! 12345 - python is fun.      \n",
            "     Hello\t, World! 12345 - Python is FUN.        \n",
            "--   Hello\t, World! 12345 - Python is FUN.      --\n",
            "3\n",
            "b'   Hello\\t, World! 12345 - Python is FUN.      '\n",
            "False\n",
            "   Hello        , World! 12345 - Python is FUN.      \n",
            "9\n",
            "18\n",
            "True\n",
            "False\n",
            "True\n",
            "False\n",
            "False\n",
            "False\n",
            "False\n",
            "False\n",
            "False\n",
            "False\n",
            "False\n",
            "46\n",
            "First   Hello\t, World! 12345 - Python is FUN.      Last\n",
            "First-Last-Middle\n",
            "Hello\t, World! 12345 - Python is FUN.\n",
            "Hello\t, World! 12345 - Python is FUN.      \n",
            "   Hello\t, World! 12345 - Python is FUN.\n",
            "   Hejjo\t, Worjd$ 92345 - Python is FUN.      \n",
            "   Hello\t, World! 98745 - Python is FUN.      \n",
            "-1\n",
            "14\n",
            "----   Hello\t, World! 12345 - Python is FUN.      \n",
            "   Hello\t, World! 12345 - Python is FUN.      ----\n",
            "('   Hell', 'o', '\\t, World! 12345 - Python is FUN.      ')\n",
            "('   Hello\\t, World! 12345 - Pyth', 'o', 'n is FUN.      ')\n",
            "['   Hell', '\\t, World! 12345 - Python is FUN.      ']\n",
            "['   Hell', '\\t, W', 'rld! 12345 - Pyth', 'n is FUN.      ']\n",
            "['   Hello\\t, World! 12345 - Python is FUN.      ']\n",
            "True\n",
            "   hELLO\t, wORLD! 12345 - pYTHON IS fun.      \n",
            "False\n",
            "   Hello\t, World! 12345 - Python Is Fun.      \n",
            "0000   Hello\t, World! 12345 - Python is FUN.      \n"
          ]
        }
      ]
    },
    {
      "cell_type": "code",
      "source": [
        "i1 = \"Hello\\t, world! 12345 - python is fun.\"\n",
        "print(i1.capitalize())\n",
        "print(repr(i1.capitalize())) ## Shows the exact content, including the tab"
      ],
      "metadata": {
        "colab": {
          "base_uri": "https://localhost:8080/"
        },
        "id": "fmwI2qUKDqeP",
        "outputId": "4b6d9108-db8d-4d18-99f1-9da3224961b6"
      },
      "execution_count": null,
      "outputs": [
        {
          "output_type": "stream",
          "name": "stdout",
          "text": [
            "Hello\t, world! 12345 - python is fun.\n",
            "'Hello\\t, world! 12345 - python is fun.'\n"
          ]
        }
      ]
    },
    {
      "cell_type": "code",
      "source": [
        "print(isinstance(30,float)) #checks if is of same instance or not\n",
        "print(x:='string') #assigns value"
      ],
      "metadata": {
        "colab": {
          "base_uri": "https://localhost:8080/"
        },
        "id": "AwMnWaV4H1lv",
        "outputId": "9f2a794d-ac72-491e-b94e-d926d43514a5"
      },
      "execution_count": null,
      "outputs": [
        {
          "output_type": "stream",
          "name": "stdout",
          "text": [
            "False\n",
            "string\n"
          ]
        }
      ]
    },
    {
      "cell_type": "code",
      "source": [
        "data_2x4 = [(1, 2, 3, 4), (5, 6, 7, 8)]\n",
        "\n",
        "# Unzipping the matrix (splitting the elements into separate groups)\n",
        "unzipped_2x4 = zip(*data_2x4)\n",
        "print(\"Unzipped 2x4:\", list(unzipped_2x4))\n",
        "\n",
        "# Transposing the matrix (swapping rows and columns)\n",
        "transposed_2x4 = list(zip(*data_2x4))\n",
        "print(\"Transposed 2x4:\", transposed_2x4)"
      ],
      "metadata": {
        "colab": {
          "base_uri": "https://localhost:8080/"
        },
        "id": "YDEKroUNoiQ0",
        "outputId": "d41dd12f-b444-4f24-e84c-8d26d3395759"
      },
      "execution_count": null,
      "outputs": [
        {
          "output_type": "stream",
          "name": "stdout",
          "text": [
            "Unzipped 2x4: [(1, 5), (2, 6), (3, 7), (4, 8)]\n",
            "Transposed 2x4: [(1, 5), (2, 6), (3, 7), (4, 8)]\n"
          ]
        }
      ]
    },
    {
      "cell_type": "code",
      "source": [],
      "metadata": {
        "id": "A9WBafmxsnsF"
      },
      "execution_count": null,
      "outputs": []
    }
  ]
}